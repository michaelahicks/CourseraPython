{
 "cells": [
  {
   "cell_type": "markdown",
   "id": "8a06ec44",
   "metadata": {},
   "source": [
    "Remember that a class definition, like a function definition, is a general description of what <i>every instance of the class should have.</i>"
   ]
  },
  {
   "cell_type": "code",
   "execution_count": 41,
   "id": "e1f56c12",
   "metadata": {},
   "outputs": [],
   "source": [
    "class Point:\n",
    "    \"\"\"Point class for representing and manipulating x,y coordinates\"\"\"\n",
    "    \n",
    "    def __init__(self, initX, initY):\n",
    "        self.x = initX\n",
    "        self.y = initY\n",
    "        \n",
    "    def getX(self):\n",
    "        return self.x\n",
    "    \n",
    "    def getY(self):\n",
    "        return self.y\n",
    "    \n",
    "    def distanceFromOrigin(self):\n",
    "        return ((self.x ** 2) + (self.y ** 2)) ** 0.5\n",
    "    \n",
    "    def __str__(self):\n",
    "        return \"x = {}, y = {}\".format(self.x, self.y)\n",
    "    \n",
    "    def __add__(self, otherPoint):\n",
    "        return Point(self.x + otherPoint.x, self.y + otherPoint.y)\n",
    "    \n",
    "    def __sub__(self, otherPoint):\n",
    "        return Point(self.x - otherPoint.x, self.y - otherPoint.y)\n",
    "    \n",
    "    def halfway(self, target):\n",
    "        mx = int((self.x + target.x) / 2) # adding the int() due to returning float without it\n",
    "        my = int((self.y + target.y) / 2)\n",
    "        return Point(mx, my)\n",
    "\n"
   ]
  },
  {
   "cell_type": "code",
   "execution_count": 31,
   "id": "82901e7d",
   "metadata": {},
   "outputs": [],
   "source": [
    "p1 = Point(-5,10)\n",
    "p2 = Point(15, 20)"
   ]
  },
  {
   "cell_type": "code",
   "execution_count": 32,
   "id": "3c1b1df5",
   "metadata": {},
   "outputs": [
    {
     "name": "stdout",
     "output_type": "stream",
     "text": [
      "x = -5, y = 10\n"
     ]
    }
   ],
   "source": [
    "print(p1)"
   ]
  },
  {
   "cell_type": "code",
   "execution_count": 33,
   "id": "d0c3575a",
   "metadata": {},
   "outputs": [
    {
     "name": "stdout",
     "output_type": "stream",
     "text": [
      "x = 10, y = 30\n",
      "x = -20, y = -10\n"
     ]
    }
   ],
   "source": [
    "print(p1 + p2)\n",
    "print(p1 - p2)"
   ]
  },
  {
   "cell_type": "code",
   "execution_count": 44,
   "id": "841161fa",
   "metadata": {},
   "outputs": [],
   "source": [
    "p = Point(3,4)\n",
    "q = Point(5,12)\n",
    "mid = p.halfway(q) # return a new point halfway between p and q\n",
    "mid = q.halfway(p) # returns the same result"
   ]
  },
  {
   "cell_type": "code",
   "execution_count": 45,
   "id": "1bbe7e62",
   "metadata": {},
   "outputs": [
    {
     "name": "stdout",
     "output_type": "stream",
     "text": [
      "x = 4, y = 8\n",
      "4\n",
      "8\n"
     ]
    }
   ],
   "source": [
    "print(mid)\n",
    "print(mid.getX())\n",
    "print(mid.getY())"
   ]
  },
  {
   "cell_type": "markdown",
   "id": "5d83d928",
   "metadata": {},
   "source": [
    "<b>Another practice class</b>"
   ]
  },
  {
   "cell_type": "code",
   "execution_count": 16,
   "id": "ef7feefc",
   "metadata": {},
   "outputs": [],
   "source": [
    "class Cereal:\n",
    "    \n",
    "    def __init__(self, n, b, f):\n",
    "        f = str(f)\n",
    "        self.name = n\n",
    "        self.brand = b\n",
    "        self.fiber = f\n",
    "        \n",
    "    def __str__(self):\n",
    "        return \"{} cereal is produced by {} and has {} grams of fiber in every serving!\".format(self.name, self.brand, self.fiber)\n"
   ]
  },
  {
   "cell_type": "code",
   "execution_count": 17,
   "id": "72284eb5",
   "metadata": {},
   "outputs": [],
   "source": [
    "c1 = Cereal(\"Corn Flakes\", \"Kellogg's\", 2)"
   ]
  },
  {
   "cell_type": "code",
   "execution_count": 18,
   "id": "1ee7929a",
   "metadata": {},
   "outputs": [],
   "source": [
    "c2 = Cereal(\"Honey Nut Cheerios\", \"General Mills\", 3)"
   ]
  },
  {
   "cell_type": "code",
   "execution_count": 19,
   "id": "05af3565",
   "metadata": {},
   "outputs": [
    {
     "name": "stdout",
     "output_type": "stream",
     "text": [
      "Corn Flakes cereal is produced by Kellogg's and has 2 grams of fiber in every serving!\n"
     ]
    }
   ],
   "source": [
    "print(c1)"
   ]
  },
  {
   "cell_type": "code",
   "execution_count": 20,
   "id": "3fd44231",
   "metadata": {},
   "outputs": [
    {
     "name": "stdout",
     "output_type": "stream",
     "text": [
      "Honey Nut Cheerios cereal is produced by General Mills and has 3 grams of fiber in every serving!\n"
     ]
    }
   ],
   "source": [
    "print(c2)"
   ]
  },
  {
   "cell_type": "markdown",
   "id": "7740642f",
   "metadata": {},
   "source": [
    "<b>Sorting Lists of Instances</b>"
   ]
  },
  {
   "cell_type": "code",
   "execution_count": 46,
   "id": "4c3bf90e",
   "metadata": {},
   "outputs": [],
   "source": [
    "L = [\"Cherry\", \"Apple\", \"Blueberry\"]"
   ]
  },
  {
   "cell_type": "code",
   "execution_count": 47,
   "id": "217515b0",
   "metadata": {},
   "outputs": [
    {
     "name": "stdout",
     "output_type": "stream",
     "text": [
      "['Apple', 'Cherry', 'Blueberry']\n"
     ]
    }
   ],
   "source": [
    "print(sorted(L, key=len))"
   ]
  },
  {
   "cell_type": "code",
   "execution_count": 48,
   "id": "1d363d4e",
   "metadata": {},
   "outputs": [
    {
     "name": "stdout",
     "output_type": "stream",
     "text": [
      "['Apple', 'Cherry', 'Blueberry']\n"
     ]
    }
   ],
   "source": [
    "#alternative form using lambda, if you find that easier to understand\n",
    "print(sorted(L, key= lambda x: len(x)))"
   ]
  },
  {
   "cell_type": "markdown",
   "id": "d71e5ea4",
   "metadata": {},
   "source": [
    "<b>As a Class</b>"
   ]
  },
  {
   "cell_type": "code",
   "execution_count": 55,
   "id": "633e19f4",
   "metadata": {},
   "outputs": [],
   "source": [
    "class Fruit():\n",
    "    def __init__(self, name, price):\n",
    "        self.name = name\n",
    "        self.price = price\n",
    "    \n",
    "    def sort_priority(self):\n",
    "        return self.price"
   ]
  },
  {
   "cell_type": "code",
   "execution_count": 56,
   "id": "8da88b31",
   "metadata": {},
   "outputs": [],
   "source": [
    "L = [Fruit(\"Cherry\", 10), Fruit(\"Apple\", 5), Fruit(\"Blueberry\", 20)]"
   ]
  },
  {
   "cell_type": "code",
   "execution_count": 57,
   "id": "5ac5522b",
   "metadata": {},
   "outputs": [
    {
     "name": "stdout",
     "output_type": "stream",
     "text": [
      "Apple\n",
      "Cherry\n",
      "Blueberry\n"
     ]
    }
   ],
   "source": [
    "for f in sorted(L, key=lambda x: x.price):\n",
    "    print(f.name)"
   ]
  },
  {
   "cell_type": "code",
   "execution_count": 58,
   "id": "d6b4e247",
   "metadata": {},
   "outputs": [
    {
     "name": "stdout",
     "output_type": "stream",
     "text": [
      "-----sorted by price, referencing a class method-----\n",
      "Apple\n",
      "Cherry\n",
      "Blueberry\n"
     ]
    }
   ],
   "source": [
    "print(\"-----sorted by price, referencing a class method-----\")\n",
    "for f in sorted(L, key=Fruit.sort_priority):\n",
    "    print(f.name)"
   ]
  },
  {
   "cell_type": "code",
   "execution_count": 59,
   "id": "2b4ec190",
   "metadata": {},
   "outputs": [
    {
     "name": "stdout",
     "output_type": "stream",
     "text": [
      "---- one more way to do the same thing-----\n",
      "Apple\n",
      "Cherry\n",
      "Blueberry\n"
     ]
    }
   ],
   "source": [
    "print(\"---- one more way to do the same thing-----\")\n",
    "for f in sorted(L, key=lambda x: x.sort_priority()):\n",
    "    print(f.name)"
   ]
  },
  {
   "cell_type": "markdown",
   "id": "87ea9636",
   "metadata": {},
   "source": [
    "<b>Another Class example of Point</b>"
   ]
  },
  {
   "cell_type": "code",
   "execution_count": 60,
   "id": "976661de",
   "metadata": {},
   "outputs": [],
   "source": [
    "class Point:\n",
    "    \"\"\" Point class for representing and manipulating x,y coordinates. \"\"\"\n",
    "\n",
    "    printed_rep = \"*\"\n",
    "\n",
    "    def __init__(self, initX, initY):\n",
    "\n",
    "        self.x = initX\n",
    "        self.y = initY\n",
    "\n",
    "    def graph(self):\n",
    "        rows = []\n",
    "        size = max(int(self.x), int(self.y)) + 2\n",
    "        for j in range(size-1) :\n",
    "            if (j+1) == int(self.y):\n",
    "                special_row = str((j+1) % 10) + (\" \"*(int(self.x) -1)) + self.printed_rep\n",
    "                rows.append(special_row)\n",
    "            else:\n",
    "                rows.append(str((j+1) % 10))\n",
    "        rows.reverse()  # put higher values of y first\n",
    "        x_axis = \"\"\n",
    "        for i in range(size):\n",
    "            x_axis += str(i % 10)\n",
    "        rows.append(x_axis)\n",
    "\n",
    "        return \"\\n\".join(rows)\n"
   ]
  },
  {
   "cell_type": "code",
   "execution_count": 61,
   "id": "11d92ba8",
   "metadata": {},
   "outputs": [],
   "source": [
    "p1 = Point(2, 3)\n",
    "p2 = Point(3, 12)"
   ]
  },
  {
   "cell_type": "code",
   "execution_count": 62,
   "id": "3ed3e3dc",
   "metadata": {},
   "outputs": [
    {
     "name": "stdout",
     "output_type": "stream",
     "text": [
      "4\n",
      "3 *\n",
      "2\n",
      "1\n",
      "01234\n"
     ]
    }
   ],
   "source": [
    "print(p1.graph())"
   ]
  },
  {
   "cell_type": "code",
   "execution_count": 63,
   "id": "a77ec3b4",
   "metadata": {},
   "outputs": [
    {
     "name": "stdout",
     "output_type": "stream",
     "text": [
      "3\n",
      "2  *\n",
      "1\n",
      "0\n",
      "9\n",
      "8\n",
      "7\n",
      "6\n",
      "5\n",
      "4\n",
      "3\n",
      "2\n",
      "1\n",
      "01234567890123\n"
     ]
    }
   ],
   "source": [
    "print(p2.graph())"
   ]
  },
  {
   "cell_type": "markdown",
   "id": "af4cdb06",
   "metadata": {},
   "source": [
    "To be able to reason about class variables and instance variables, it is helpful to know the rules that the python interpreter uses. That way, you can mentally simulate what the interpreter does."
   ]
  },
  {
   "cell_type": "markdown",
   "id": "8e375528",
   "metadata": {},
   "source": [
    "<b>When the interpreter sees an expression of the form <#obj#>.<#varname#>, it:</b>"
   ]
  },
  {
   "cell_type": "markdown",
   "id": "a1cfc87e",
   "metadata": {},
   "source": [
    "<ol><li>Checks if the object has an instance variable set. If so, it uses that value.</li>\n",
    "\n",
    "<li>If it doesn’t find an instance variable, it checks whether the class has a class variable. If so it uses that value.</li>\n",
    "\n",
    "<li>If it doesn’t find an instance or a class variable, it creates a runtime error (actually, it does one other check first, which you will learn about in the next chapter).</li></ol>"
   ]
  },
  {
   "cell_type": "markdown",
   "id": "18d74546",
   "metadata": {},
   "source": [
    "<b>When the interpreter sees an assignment statement of the form <#obj#>.<#varname#> = <#expr#>, it:</b>"
   ]
  },
  {
   "cell_type": "markdown",
   "id": "779b2689",
   "metadata": {},
   "source": [
    "<ol)<li>Evaluates the expression on the right-hand side to yield some python object;</li>\n",
    "\n",
    "<li>Sets the instance variable <#varname#> of <#obj#> to be bound to that python object. Note that an assignment statement of this form never sets the class variable; it only sets the instance variable.</li></ol>"
   ]
  },
  {
   "cell_type": "markdown",
   "id": "d6ec3443",
   "metadata": {},
   "source": [
    "In order to set the class variable, you use an assignment statement of the form <b><#varname#> = <#expr#></b> at the top-level in a class definition, like on line 4 in the code above to set the class variable printed_rep."
   ]
  },
  {
   "cell_type": "markdown",
   "id": "be157d2d",
   "metadata": {},
   "source": [
    "<b>In case you are curious, method definitions also create class variables. Thus, in the code above, graph becomes a class variable that is bound to a function/method object. p1.graph() is evaluated by:</b>"
   ]
  },
  {
   "cell_type": "markdown",
   "id": "d0ab41fd",
   "metadata": {},
   "source": [
    "<ul><li>looking up p1 and finding that it’s an instance of Point</li>\n",
    "\n",
    "<li>looking for an instance variable called graph in p1, but not finding one</li>\n",
    "\n",
    "<li>looking for a class variable called graph in p1’s class, the Point class; it finds a function/method object</li>\n",
    "\n",
    "<li>Because of the () after the word graph, it invokes the function/method object, with the parameter self bound to the object p1 points to.</li></ul>"
   ]
  },
  {
   "cell_type": "code",
   "execution_count": null,
   "id": "77752ab6",
   "metadata": {},
   "outputs": [],
   "source": []
  }
 ],
 "metadata": {
  "kernelspec": {
   "display_name": "Python 3 (ipykernel)",
   "language": "python",
   "name": "python3"
  },
  "language_info": {
   "codemirror_mode": {
    "name": "ipython",
    "version": 3
   },
   "file_extension": ".py",
   "mimetype": "text/x-python",
   "name": "python",
   "nbconvert_exporter": "python",
   "pygments_lexer": "ipython3",
   "version": "3.10.7"
  }
 },
 "nbformat": 4,
 "nbformat_minor": 5
}
