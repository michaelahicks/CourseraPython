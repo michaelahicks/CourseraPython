{
 "cells": [
  {
   "cell_type": "code",
   "execution_count": 24,
   "id": "5447f336",
   "metadata": {},
   "outputs": [],
   "source": [
    "def doubleStuff(a_list):\n",
    "    \"\"\" Return a new list in which contains doubles of the elements in a_list. \"\"\"\n",
    "    new_list = []\n",
    "    for value in a_list:\n",
    "        new_elem = 2 * value\n",
    "        new_list.append(new_elem)\n",
    "    return new_list"
   ]
  },
  {
   "cell_type": "code",
   "execution_count": 25,
   "id": "4bb0329f",
   "metadata": {},
   "outputs": [],
   "source": [
    "things = [2, 5, 9]"
   ]
  },
  {
   "cell_type": "code",
   "execution_count": 26,
   "id": "867cace6",
   "metadata": {},
   "outputs": [
    {
     "name": "stdout",
     "output_type": "stream",
     "text": [
      "[2, 5, 9]\n"
     ]
    }
   ],
   "source": [
    "print(things)"
   ]
  },
  {
   "cell_type": "code",
   "execution_count": 27,
   "id": "65a11be2",
   "metadata": {},
   "outputs": [],
   "source": [
    "things = doubleStuff(things)"
   ]
  },
  {
   "cell_type": "code",
   "execution_count": 28,
   "id": "c631cbd6",
   "metadata": {},
   "outputs": [
    {
     "name": "stdout",
     "output_type": "stream",
     "text": [
      "[4, 10, 18]\n"
     ]
    }
   ],
   "source": [
    "print(things)"
   ]
  },
  {
   "cell_type": "markdown",
   "id": "802fb3bc",
   "metadata": {},
   "source": [
    "This pattern of computation is so common that python offers a more general way to do mappings, the map function, that makes it more clear what the overall structure of the computation is. Map takes two arguments, a function and a sequence. The function is the mapper that transforms items. It is automatically applied to each item in the sequence. You don’t have to initialize an accumulator or iterate with a for loop at all."
   ]
  },
  {
   "cell_type": "markdown",
   "id": "ae68c100",
   "metadata": {},
   "source": [
    "# Map examples"
   ]
  },
  {
   "cell_type": "code",
   "execution_count": 29,
   "id": "0995f423",
   "metadata": {},
   "outputs": [],
   "source": [
    "def triple(value):\n",
    "    return 3*value"
   ]
  },
  {
   "cell_type": "code",
   "execution_count": 30,
   "id": "b8301306",
   "metadata": {},
   "outputs": [],
   "source": [
    "def tripleStuff(a_list):\n",
    "    new_seq = map(triple, a_list)\n",
    "    return list(new_seq)"
   ]
  },
  {
   "cell_type": "markdown",
   "id": "f9d0ed69",
   "metadata": {},
   "source": [
    "Function with a Map utilizing a lambda function"
   ]
  },
  {
   "cell_type": "code",
   "execution_count": 31,
   "id": "0dfeec8e",
   "metadata": {},
   "outputs": [],
   "source": [
    "def quadrupleStuff(a_list):\n",
    "    new_seq = map(lambda value: 4*value, a_list)\n",
    "    return list(new_seq)"
   ]
  },
  {
   "cell_type": "code",
   "execution_count": 32,
   "id": "af6f9971",
   "metadata": {},
   "outputs": [],
   "source": [
    "things = [2, 5, 9]"
   ]
  },
  {
   "cell_type": "code",
   "execution_count": 33,
   "id": "cae10e7f",
   "metadata": {},
   "outputs": [],
   "source": [
    "things3 = tripleStuff(things)"
   ]
  },
  {
   "cell_type": "code",
   "execution_count": 34,
   "id": "5614fc5b",
   "metadata": {},
   "outputs": [
    {
     "name": "stdout",
     "output_type": "stream",
     "text": [
      "[6, 15, 27]\n"
     ]
    }
   ],
   "source": [
    "print(things3)"
   ]
  },
  {
   "cell_type": "code",
   "execution_count": 35,
   "id": "4c890759",
   "metadata": {},
   "outputs": [],
   "source": [
    "things4 = quadrupleStuff(things)"
   ]
  },
  {
   "cell_type": "code",
   "execution_count": 36,
   "id": "e7e9edad",
   "metadata": {},
   "outputs": [
    {
     "name": "stdout",
     "output_type": "stream",
     "text": [
      "[8, 20, 36]\n"
     ]
    }
   ],
   "source": [
    "print(things4)"
   ]
  },
  {
   "cell_type": "markdown",
   "id": "c7324625",
   "metadata": {},
   "source": [
    "Also, with lambda functions"
   ]
  },
  {
   "cell_type": "code",
   "execution_count": 37,
   "id": "d8c5ed77",
   "metadata": {},
   "outputs": [
    {
     "name": "stdout",
     "output_type": "stream",
     "text": [
      "[8, 20, 36]\n"
     ]
    }
   ],
   "source": [
    "things4 = map((lambda value: 4*value), things)\n",
    "print(list(things4))"
   ]
  },
  {
   "cell_type": "code",
   "execution_count": 38,
   "id": "4a43d880",
   "metadata": {},
   "outputs": [
    {
     "name": "stdout",
     "output_type": "stream",
     "text": [
      "[5, 10, 15]\n"
     ]
    }
   ],
   "source": [
    "# or all on one line\n",
    "print(list(map((lambda value: 5*value), [1, 2, 3])))"
   ]
  },
  {
   "cell_type": "markdown",
   "id": "1360beef",
   "metadata": {},
   "source": [
    "# Practice"
   ]
  },
  {
   "cell_type": "code",
   "execution_count": 39,
   "id": "7de66b5b",
   "metadata": {},
   "outputs": [],
   "source": [
    "lst = [[\"hi\", \"bye\"], \"hello\", \"goodbye\", [9, 2], 4]"
   ]
  },
  {
   "cell_type": "code",
   "execution_count": 40,
   "id": "946d3f8a",
   "metadata": {},
   "outputs": [],
   "source": [
    "def transformer(item):\n",
    "        new_item = item*2\n",
    "        return new_item"
   ]
  },
  {
   "cell_type": "code",
   "execution_count": 41,
   "id": "89712ec8",
   "metadata": {},
   "outputs": [],
   "source": [
    "def doubleIt(a_lst):\n",
    "    greeting_doubled = map(transformer, a_lst)\n",
    "    return list(greeting_doubled)"
   ]
  },
  {
   "cell_type": "code",
   "execution_count": 42,
   "id": "bd01c6de",
   "metadata": {},
   "outputs": [
    {
     "name": "stdout",
     "output_type": "stream",
     "text": [
      "[['hi', 'bye', 'hi', 'bye'], 'hellohello', 'goodbyegoodbye', [9, 2, 9, 2], 8]\n"
     ]
    }
   ],
   "source": [
    "greeting_doubled = doubleIt(lst)\n",
    "print(greeting_doubled)"
   ]
  },
  {
   "cell_type": "markdown",
   "id": "17fd0b9d",
   "metadata": {},
   "source": [
    "Another exercise"
   ]
  },
  {
   "cell_type": "code",
   "execution_count": 43,
   "id": "c684e5c6",
   "metadata": {},
   "outputs": [],
   "source": [
    "abbrevs = [\"usa\", \"esp\", \"chn\", \"jpn\", \"mex\", \"can\", \"rus\", \"rsa\", \"jam\"]"
   ]
  },
  {
   "cell_type": "code",
   "execution_count": 44,
   "id": "a2e23ec9",
   "metadata": {},
   "outputs": [],
   "source": [
    "def upchars(var):\n",
    "    return var.upper()"
   ]
  },
  {
   "cell_type": "code",
   "execution_count": 45,
   "id": "83fc5733",
   "metadata": {},
   "outputs": [],
   "source": [
    "def countries(lst):\n",
    "    up_countries = map(upchars, lst)\n",
    "    return list(up_countries)"
   ]
  },
  {
   "cell_type": "code",
   "execution_count": 46,
   "id": "82842204",
   "metadata": {},
   "outputs": [
    {
     "name": "stdout",
     "output_type": "stream",
     "text": [
      "['USA', 'ESP', 'CHN', 'JPN', 'MEX', 'CAN', 'RUS', 'RSA', 'JAM']\n"
     ]
    }
   ],
   "source": [
    "abbrevs_upper = countries(abbrevs)\n",
    "print(abbrevs_upper)"
   ]
  },
  {
   "cell_type": "code",
   "execution_count": null,
   "id": "8bff50fe",
   "metadata": {},
   "outputs": [],
   "source": []
  }
 ],
 "metadata": {
  "kernelspec": {
   "display_name": "Python 3 (ipykernel)",
   "language": "python",
   "name": "python3"
  },
  "language_info": {
   "codemirror_mode": {
    "name": "ipython",
    "version": 3
   },
   "file_extension": ".py",
   "mimetype": "text/x-python",
   "name": "python",
   "nbconvert_exporter": "python",
   "pygments_lexer": "ipython3",
   "version": "3.9.12"
  }
 },
 "nbformat": 4,
 "nbformat_minor": 5
}
