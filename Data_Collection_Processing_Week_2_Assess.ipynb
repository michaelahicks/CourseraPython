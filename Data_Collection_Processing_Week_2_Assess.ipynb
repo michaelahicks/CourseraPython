{
 "cells": [
  {
   "cell_type": "markdown",
   "id": "02518ce6",
   "metadata": {},
   "source": [
    "Write code to assign to the variable map_testing all the elements in lst_check while adding the string “Fruit: ” to the beginning of each element using mapping."
   ]
  },
  {
   "cell_type": "code",
   "execution_count": 1,
   "id": "91ba757e",
   "metadata": {},
   "outputs": [],
   "source": [
    "lst_check = ['plums', 'watermelon', 'kiwi', 'strawberries', 'blueberries', 'peaches', 'apples', 'mangos', 'papaya']"
   ]
  },
  {
   "cell_type": "code",
   "execution_count": 2,
   "id": "a48d8979",
   "metadata": {},
   "outputs": [],
   "source": [
    "def addfruit(a_string):\n",
    "    return \"Fruit: \" + a_string"
   ]
  },
  {
   "cell_type": "code",
   "execution_count": 3,
   "id": "aa5dec9a",
   "metadata": {},
   "outputs": [],
   "source": [
    "def list_transform(a_list):\n",
    "    new_list = map(addfruit, a_list)\n",
    "    return list(new_list)"
   ]
  },
  {
   "cell_type": "code",
   "execution_count": 4,
   "id": "f7d97d44",
   "metadata": {},
   "outputs": [
    {
     "name": "stdout",
     "output_type": "stream",
     "text": [
      "['Fruit: plums', 'Fruit: watermelon', 'Fruit: kiwi', 'Fruit: strawberries', 'Fruit: blueberries', 'Fruit: peaches', 'Fruit: apples', 'Fruit: mangos', 'Fruit: papaya']\n"
     ]
    }
   ],
   "source": [
    "map_testing = list_transform(lst_check)\n",
    "print(map_testing)"
   ]
  },
  {
   "cell_type": "markdown",
   "id": "1fb004ff",
   "metadata": {},
   "source": [
    "Below, we have provided a list of strings called countries. Use filter to produce a list called b_countries that only contains the strings from countries that begin with B."
   ]
  },
  {
   "cell_type": "code",
   "execution_count": 5,
   "id": "f8f0054b",
   "metadata": {},
   "outputs": [],
   "source": [
    "countries = ['Canada', 'Mexico', 'Brazil', 'Chile', 'Denmark', 'Botswana', 'Spain', 'Britain', 'Portugal', 'Russia', 'Thailand', 'Bangladesh', 'Nigeria', 'Argentina', 'Belarus', 'Laos', 'Australia', 'Panama', 'Egypt', 'Morocco', 'Switzerland', 'Belgium']"
   ]
  },
  {
   "cell_type": "code",
   "execution_count": 6,
   "id": "9cc675d7",
   "metadata": {},
   "outputs": [],
   "source": [
    "def keep_the_b(c_list):\n",
    "    filtered_list = filter(lambda country: country[0].upper() == \"B\", c_list)\n",
    "    return list(filtered_list)"
   ]
  },
  {
   "cell_type": "code",
   "execution_count": 7,
   "id": "080d309b",
   "metadata": {},
   "outputs": [
    {
     "name": "stdout",
     "output_type": "stream",
     "text": [
      "['Brazil', 'Botswana', 'Britain', 'Bangladesh', 'Belarus', 'Belgium']\n"
     ]
    }
   ],
   "source": [
    "b_countries = keep_the_b(countries)\n",
    "print(b_countries)"
   ]
  },
  {
   "cell_type": "markdown",
   "id": "540c1d93",
   "metadata": {},
   "source": [
    "Below, we have provided a list of tuples that contain the names of Game of Thrones characters. Using list comprehension, create a list of strings called first_names that contains only the first names of everyone in the original list."
   ]
  },
  {
   "cell_type": "code",
   "execution_count": 8,
   "id": "d3466b52",
   "metadata": {},
   "outputs": [],
   "source": [
    "people = [('Snow', 'Jon'), ('Lannister', 'Cersei'), ('Stark', 'Arya'), ('Stark', 'Robb'), ('Lannister', 'Jamie'), ('Targaryen', 'Daenerys'), ('Stark', 'Sansa'), ('Tyrell', 'Margaery'), ('Stark', 'Eddard'), ('Lannister', 'Tyrion'), ('Baratheon', 'Joffrey'), ('Bolton', 'Ramsey'), ('Baelish', 'Peter')]"
   ]
  },
  {
   "cell_type": "code",
   "execution_count": 9,
   "id": "f5489061",
   "metadata": {},
   "outputs": [
    {
     "name": "stdout",
     "output_type": "stream",
     "text": [
      "['Jon', 'Cersei', 'Arya', 'Robb', 'Jamie', 'Daenerys', 'Sansa', 'Margaery', 'Eddard', 'Tyrion', 'Joffrey', 'Ramsey', 'Peter']\n"
     ]
    }
   ],
   "source": [
    "first_names = [name[1] for name in people]\n",
    "print(first_names)"
   ]
  },
  {
   "cell_type": "markdown",
   "id": "005a27ee",
   "metadata": {},
   "source": [
    "Use list comprehension to create a list called lst2 that doubles each element in the list, lst."
   ]
  },
  {
   "cell_type": "code",
   "execution_count": 10,
   "id": "3adbe15f",
   "metadata": {},
   "outputs": [],
   "source": [
    "lst = [[\"hi\", \"bye\"], \"hello\", \"goodbye\", [9, 2], 4]"
   ]
  },
  {
   "cell_type": "code",
   "execution_count": 11,
   "id": "9f6737e2",
   "metadata": {},
   "outputs": [
    {
     "name": "stdout",
     "output_type": "stream",
     "text": [
      "[['hi', 'bye', 'hi', 'bye'], 'hellohello', 'goodbyegoodbye', [9, 2, 9, 2], 8]\n"
     ]
    }
   ],
   "source": [
    "lst2 = [item * 2 for item in lst]\n",
    "print(lst2)"
   ]
  },
  {
   "cell_type": "markdown",
   "id": "11bbaf28",
   "metadata": {},
   "source": [
    "Below, we have provided a list of tuples that contain students’ names and their final grades in PYTHON 101. Using list comprehension, create a new list passed that contains the names of students who passed the class (had a final grade of 70 or greater)."
   ]
  },
  {
   "cell_type": "code",
   "execution_count": 12,
   "id": "e6490df6",
   "metadata": {},
   "outputs": [],
   "source": [
    "students = [('Tommy', 95), ('Linda', 63), ('Carl', 70), ('Bob', 100), ('Raymond', 50), ('Sue', 75)]"
   ]
  },
  {
   "cell_type": "code",
   "execution_count": 13,
   "id": "3ef4ef86",
   "metadata": {},
   "outputs": [
    {
     "name": "stdout",
     "output_type": "stream",
     "text": [
      "['Tommy', 'Carl', 'Bob', 'Sue']\n"
     ]
    }
   ],
   "source": [
    "passed = [student[0] for student in students if student[1] >= 70]\n",
    "print(passed)"
   ]
  },
  {
   "cell_type": "markdown",
   "id": "f523100c",
   "metadata": {},
   "source": [
    "Write code using zip and filter so that these lists (l1 and l2) are combined into one big list and assigned to the variable opposites if they are both longer than 3 characters each."
   ]
  },
  {
   "cell_type": "code",
   "execution_count": 17,
   "id": "0f24a86e",
   "metadata": {},
   "outputs": [],
   "source": [
    "l1 = ['left', 'up', 'front']\n",
    "l2 = ['right', 'down', 'back']"
   ]
  },
  {
   "cell_type": "code",
   "execution_count": 18,
   "id": "feb556dd",
   "metadata": {},
   "outputs": [
    {
     "name": "stdout",
     "output_type": "stream",
     "text": [
      "['leftright', 'frontback']\n"
     ]
    }
   ],
   "source": [
    "opposites = [x1 + x2 for (x1, x2) in list(zip(l1, l2)) if len(x1) > 3 and len(x2) > 3]\n",
    "print(opposites)"
   ]
  },
  {
   "cell_type": "code",
   "execution_count": 20,
   "id": "31def5f5",
   "metadata": {},
   "outputs": [
    {
     "name": "stdout",
     "output_type": "stream",
     "text": [
      "<class 'list'>\n"
     ]
    }
   ],
   "source": [
    "new_list = [(x1, x2) for (x1, x2) in list(zip(l1, l2)) if len(x1) > 3 and len(x2) > 3]\n",
    "print(type(new_list))"
   ]
  },
  {
   "cell_type": "code",
   "execution_count": 21,
   "id": "0d0b92e4",
   "metadata": {},
   "outputs": [
    {
     "name": "stdout",
     "output_type": "stream",
     "text": [
      "[('left', 'right'), ('front', 'back')]\n"
     ]
    }
   ],
   "source": [
    "print(new_list)"
   ]
  },
  {
   "cell_type": "markdown",
   "id": "31d2767f",
   "metadata": {},
   "source": [
    "Final Answer"
   ]
  },
  {
   "cell_type": "code",
   "execution_count": 22,
   "id": "b19d8a22",
   "metadata": {},
   "outputs": [
    {
     "name": "stdout",
     "output_type": "stream",
     "text": [
      "<class 'list'>\n",
      "[('left', 'right'), ('front', 'back')]\n"
     ]
    }
   ],
   "source": [
    "opposites = [(x1, x2) for (x1, x2) in list(zip(l1, l2)) if len(x1) > 3 and len(x2) > 3]\n",
    "print(type(opposites))\n",
    "print(opposites)"
   ]
  },
  {
   "cell_type": "markdown",
   "id": "7c050f18",
   "metadata": {},
   "source": [
    "Below, we have provided a species list and a population list. Use zip to combine these lists into one list of tuples called pop_info. From this list, create a new list called endangered that contains the names of species whose populations are below 2500."
   ]
  },
  {
   "cell_type": "code",
   "execution_count": 23,
   "id": "2e1f7ab2",
   "metadata": {},
   "outputs": [],
   "source": [
    "species = ['golden retriever', 'white tailed deer', 'black rhino', 'brown squirrel', 'field mouse', 'orangutan', 'sumatran elephant', 'rainbow trout', 'black bear', 'blue whale', 'water moccasin', 'giant panda', 'green turtle', 'blue jay', 'japanese beetle']"
   ]
  },
  {
   "cell_type": "code",
   "execution_count": 24,
   "id": "5f369fab",
   "metadata": {},
   "outputs": [],
   "source": [
    "population = [10000, 90000, 1000, 2000000, 500000, 500, 1200, 8000, 12000, 2300, 7500, 100, 1800, 9500, 125000]"
   ]
  },
  {
   "cell_type": "code",
   "execution_count": 25,
   "id": "f0b5c2fc",
   "metadata": {},
   "outputs": [],
   "source": [
    "endangered = []"
   ]
  },
  {
   "cell_type": "code",
   "execution_count": 26,
   "id": "a03b3f18",
   "metadata": {},
   "outputs": [
    {
     "name": "stdout",
     "output_type": "stream",
     "text": [
      "[('golden retriever', 10000), ('white tailed deer', 90000), ('black rhino', 1000), ('brown squirrel', 2000000), ('field mouse', 500000), ('orangutan', 500), ('sumatran elephant', 1200), ('rainbow trout', 8000), ('black bear', 12000), ('blue whale', 2300), ('water moccasin', 7500), ('giant panda', 100), ('green turtle', 1800), ('blue jay', 9500), ('japanese beetle', 125000)]\n"
     ]
    }
   ],
   "source": [
    "pop_info = list(zip(species, population))\n",
    "print(pop_info)"
   ]
  },
  {
   "cell_type": "code",
   "execution_count": 27,
   "id": "eb9cef1d",
   "metadata": {},
   "outputs": [
    {
     "name": "stdout",
     "output_type": "stream",
     "text": [
      "[('black rhino', 1000), ('orangutan', 500), ('sumatran elephant', 1200), ('blue whale', 2300), ('giant panda', 100), ('green turtle', 1800)]\n"
     ]
    }
   ],
   "source": [
    "filtered = list(filter(lambda info: info[1] < 2500, pop_info))\n",
    "print(filtered)"
   ]
  },
  {
   "cell_type": "code",
   "execution_count": 28,
   "id": "1259db66",
   "metadata": {},
   "outputs": [
    {
     "name": "stdout",
     "output_type": "stream",
     "text": [
      "['black rhino', 'orangutan', 'sumatran elephant', 'blue whale', 'giant panda', 'green turtle']\n"
     ]
    }
   ],
   "source": [
    "for animal in filtered:\n",
    "    endangered.append(animal[0])\n",
    "print(endangered)"
   ]
  },
  {
   "cell_type": "code",
   "execution_count": null,
   "id": "560e1049",
   "metadata": {},
   "outputs": [],
   "source": []
  }
 ],
 "metadata": {
  "kernelspec": {
   "display_name": "Python 3 (ipykernel)",
   "language": "python",
   "name": "python3"
  },
  "language_info": {
   "codemirror_mode": {
    "name": "ipython",
    "version": 3
   },
   "file_extension": ".py",
   "mimetype": "text/x-python",
   "name": "python",
   "nbconvert_exporter": "python",
   "pygments_lexer": "ipython3",
   "version": "3.9.12"
  }
 },
 "nbformat": 4,
 "nbformat_minor": 5
}
