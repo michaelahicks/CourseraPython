{
 "cells": [
  {
   "cell_type": "markdown",
   "id": "1ae6ddac",
   "metadata": {},
   "source": [
    "# What is an exception?"
   ]
  },
  {
   "cell_type": "markdown",
   "id": "a35d943b",
   "metadata": {},
   "source": [
    "An <i>exception</i> is a signal that a condition has occurred that can’t be easily handled using the normal flow-of-control of a Python program. <i>Exceptions</i> are often defined as being “errors” but this is not always the case. All errors in Python are dealt with using <i>exceptions</i>, but not all <i>exceptions</i> are errors"
   ]
  },
  {
   "cell_type": "markdown",
   "id": "26ae6018",
   "metadata": {},
   "source": [
    "<h3>Exception Handling Flow-of-control</h3>"
   ]
  },
  {
   "cell_type": "markdown",
   "id": "b909f0bc",
   "metadata": {},
   "source": [
    "To explain what an <i>exception</i> does, let’s review the normal “flow of control” in a Python program. In normal operation Python executes statements sequentially, one after the other. For three constructs, if-statements, loops and function invocations, this sequential execution is interrupted."
   ]
  },
  {
   "cell_type": "markdown",
   "id": "507b3abd",
   "metadata": {},
   "source": [
    "<ul><li>For <b>if-statements</b>, only one of several statement blocks is executed and then flow-of-control jumps to the first statement after the if-statement.</li>\n",
    "<li>For <b>loops</b>, when the end of the loop is reached, flow-of-control jumps back to the start of the loop and a test is used to determine if the loop needs to execute again. If the loop is finished, flow-of-control jumps to the first statement after the loop.</li>\n",
    "    <li>For <b>function invocations</b>, flow-of-control jumps to the first statement in the called function, the function is executed, and the flow-of-control jumps back to the next statement after the function call.</li></ul>"
   ]
  },
  {
   "cell_type": "markdown",
   "id": "821a5b9c",
   "metadata": {},
   "source": [
    "Do you see the pattern? If the flow-of-control is not purely sequential, it always executes the first statement immediately following the altered flow-of-control. That is why we can say that Python flow-of-control is sequential. But there are cases where this sequential flow-of-control does not work well."
   ]
  },
  {
   "cell_type": "markdown",
   "id": "1116b899",
   "metadata": {},
   "source": [
    "Exceptions provide us with way way to have a non-sequential point where we can handle something out of the ordinary (exceptional)."
   ]
  },
  {
   "cell_type": "markdown",
   "id": "d7175352",
   "metadata": {},
   "source": [
    "<h3>Raising and Catching Errors</h3>"
   ]
  },
  {
   "cell_type": "markdown",
   "id": "2bfb4af8",
   "metadata": {},
   "source": [
    "The <b>try/except control structure</b> provides a way to process a run-time error and continue on with program execution. Until now, any run-time error, such asking for the 8th item in a list with only 3 items, or dividing by 0, has caused the program execution to stop. In the browser ActiveCode windows, you get an error message in a box below. When you are executing python programs from the command-line, you also get an error message saying something about what went wrong and what line it occurred on. After the run-time error is encountered, the python interpreter does not try to execute the rest of the code. You have to make some change in your code and rerun the whole program."
   ]
  },
  {
   "cell_type": "markdown",
   "id": "a045dfd7",
   "metadata": {},
   "source": [
    "With try/except, you tell the python interpreter:"
   ]
  },
  {
   "cell_type": "markdown",
   "id": "3d365ce7",
   "metadata": {},
   "source": [
    "<ul><li><b>Try to execute a block of code, the “try” clause.</b><ul><li>If the whole block of code executes without any run-time errors, just carry on with the rest of the program after the try/except statement.</li></ul>"
   ]
  },
  {
   "cell_type": "markdown",
   "id": "346ffcbf",
   "metadata": {},
   "source": [
    "<ul><li><b>If a run-time error does occur during execution of the block of code:</b><ul><li>skip the rest of that block of code (but don’t exit the whole program)</li>\n",
    "    <li>execute a block of code in the “except” clause</li>\n",
    "    <li>then carry on with the rest of the program after the try/except statement</li></ul></li></ul>"
   ]
  },
  {
   "cell_type": "code",
   "execution_count": 2,
   "id": "71d384a8",
   "metadata": {},
   "outputs": [],
   "source": [
    "#try:\n",
    "#   <try clause code block>\n",
    "#except <ErrorType>:  or except Exception\n",
    "#   <exception handler code block>"
   ]
  },
  {
   "cell_type": "markdown",
   "id": "10437a97",
   "metadata": {},
   "source": [
    "<b>Example</b>"
   ]
  },
  {
   "cell_type": "code",
   "execution_count": 4,
   "id": "b1fff14e",
   "metadata": {},
   "outputs": [
    {
     "name": "stdout",
     "output_type": "stream",
     "text": [
      "got an error\n",
      "continuing\n"
     ]
    }
   ],
   "source": [
    "try:\n",
    "    items = ['a', 'b']\n",
    "    third = items[2]\n",
    "    print(\"This won't print\")\n",
    "except Exception:\n",
    "    print(\"got an error\")\n",
    "    \n",
    "print(\"continuing\")"
   ]
  },
  {
   "cell_type": "code",
   "execution_count": 5,
   "id": "a8a81642",
   "metadata": {},
   "outputs": [
    {
     "ename": "ZeroDivisionError",
     "evalue": "division by zero",
     "output_type": "error",
     "traceback": [
      "\u001b[1;31m---------------------------------------------------------------------------\u001b[0m",
      "\u001b[1;31mZeroDivisionError\u001b[0m                         Traceback (most recent call last)",
      "Cell \u001b[1;32mIn [5], line 3\u001b[0m\n\u001b[0;32m      1\u001b[0m \u001b[38;5;28;01mtry\u001b[39;00m:\n\u001b[0;32m      2\u001b[0m     x \u001b[38;5;241m=\u001b[39m \u001b[38;5;241m5\u001b[39m\n\u001b[1;32m----> 3\u001b[0m     y \u001b[38;5;241m=\u001b[39m \u001b[43mx\u001b[49m\u001b[38;5;241;43m/\u001b[39;49m\u001b[38;5;241;43m0\u001b[39;49m\n\u001b[0;32m      4\u001b[0m     \u001b[38;5;28mprint\u001b[39m(\u001b[38;5;124m\"\u001b[39m\u001b[38;5;124mThis won\u001b[39m\u001b[38;5;124m'\u001b[39m\u001b[38;5;124mt print, either\u001b[39m\u001b[38;5;124m\"\u001b[39m)\n\u001b[0;32m      5\u001b[0m \u001b[38;5;28;01mexcept\u001b[39;00m \u001b[38;5;167;01mIndexError\u001b[39;00m:\n",
      "\u001b[1;31mZeroDivisionError\u001b[0m: division by zero"
     ]
    }
   ],
   "source": [
    "try:\n",
    "    x = 5\n",
    "    y = x/0\n",
    "    print(\"This won't print, either\")\n",
    "except IndexError:   #only applies to index error, other errors stop the control flow\n",
    "    print(\"error 2\")\n",
    "\n",
    "\n",
    "print(\"continuing again\")"
   ]
  },
  {
   "cell_type": "code",
   "execution_count": 7,
   "id": "a2b57169",
   "metadata": {},
   "outputs": [
    {
     "name": "stdout",
     "output_type": "stream",
     "text": [
      "got an error\n",
      "list index out of range\n",
      "continuing\n"
     ]
    }
   ],
   "source": [
    "try:\n",
    "    items = ['a', 'b']\n",
    "    third = items[2]\n",
    "    print(\"This won't print\")\n",
    "except Exception as e:  #specify the exception as a variable name\n",
    "    print(\"got an error\")\n",
    "    print(e)   #print error as variable name\n",
    "\n",
    "print(\"continuing\")"
   ]
  },
  {
   "cell_type": "code",
   "execution_count": 8,
   "id": "260b488f",
   "metadata": {},
   "outputs": [
    {
     "name": "stdout",
     "output_type": "stream",
     "text": [
      "0.3333333333333333\n",
      "0.5\n",
      "1.0\n",
      "Got an error float division by zero\n"
     ]
    }
   ],
   "source": [
    "try:\n",
    "    for i in range(5):\n",
    "        print(1.0 / (3-i))\n",
    "except Exception as error_inst:\n",
    "    print(\"Got an error\", error_inst)"
   ]
  },
  {
   "cell_type": "markdown",
   "id": "95bc934a",
   "metadata": {},
   "source": [
    "<h3>When to use try/except</h3>"
   ]
  },
  {
   "cell_type": "markdown",
   "id": "6253401b",
   "metadata": {},
   "source": [
    "The reason to use try/except is when you have a code block to execute that will sometimes run correctly and sometimes not, depending on conditions you can’t foresee at the time you’re writing the code"
   ]
  },
  {
   "cell_type": "markdown",
   "id": "953596cd",
   "metadata": {},
   "source": [
    "For example, when you are running code that fetches data from a website, you may run the code when you don’t have a network connection or when the external website is temporarily not responding. If your program can still do something useful in those situations, you would like to handle the exception and have the rest of your code execute."
   ]
  },
  {
   "cell_type": "markdown",
   "id": "943a6241",
   "metadata": {},
   "source": [
    "As another example, suppose you have fetched some nested data from a website into a dictionary d. When you try to extract specific elements, some may be missing: d may not include a particular key, for example. If you anticipate a particular key potentially not being present, you could write an if..else check to take care of it."
   ]
  },
  {
   "cell_type": "markdown",
   "id": "81075436",
   "metadata": {},
   "source": [
    "However, if you’re extracting lots of different data, it can get tedious to check for all of them. You can wrap all the data extraction in a try/except."
   ]
  }
 ],
 "metadata": {
  "kernelspec": {
   "display_name": "Python 3 (ipykernel)",
   "language": "python",
   "name": "python3"
  },
  "language_info": {
   "codemirror_mode": {
    "name": "ipython",
    "version": 3
   },
   "file_extension": ".py",
   "mimetype": "text/x-python",
   "name": "python",
   "nbconvert_exporter": "python",
   "pygments_lexer": "ipython3",
   "version": "3.10.7"
  }
 },
 "nbformat": 4,
 "nbformat_minor": 5
}
