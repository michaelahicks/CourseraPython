{
 "cells": [
  {
   "cell_type": "markdown",
   "id": "217f05ad",
   "metadata": {},
   "source": [
    "# Deep and Shallow Copies"
   ]
  },
  {
   "cell_type": "code",
   "execution_count": 13,
   "id": "fb70f3dc",
   "metadata": {},
   "outputs": [],
   "source": [
    "original = [['dogs','puppies'],['cats','kittens']]"
   ]
  },
  {
   "cell_type": "code",
   "execution_count": 14,
   "id": "e8ec7498",
   "metadata": {},
   "outputs": [],
   "source": [
    "copied_version = original[:]"
   ]
  },
  {
   "cell_type": "code",
   "execution_count": 15,
   "id": "21a1d15b",
   "metadata": {},
   "outputs": [
    {
     "name": "stdout",
     "output_type": "stream",
     "text": [
      "[['dogs', 'puppies'], ['cats', 'kittens']]\n"
     ]
    }
   ],
   "source": [
    "print(copied_version)"
   ]
  },
  {
   "cell_type": "code",
   "execution_count": 16,
   "id": "ae61724d",
   "metadata": {},
   "outputs": [
    {
     "name": "stdout",
     "output_type": "stream",
     "text": [
      "False\n"
     ]
    }
   ],
   "source": [
    "print(copied_version is original)"
   ]
  },
  {
   "cell_type": "code",
   "execution_count": 17,
   "id": "8c9be86a",
   "metadata": {},
   "outputs": [
    {
     "name": "stdout",
     "output_type": "stream",
     "text": [
      "True\n"
     ]
    }
   ],
   "source": [
    "print(copied_version == original)"
   ]
  },
  {
   "cell_type": "code",
   "execution_count": 18,
   "id": "c2c48669",
   "metadata": {},
   "outputs": [],
   "source": [
    "original[0].append(['canines'])"
   ]
  },
  {
   "cell_type": "code",
   "execution_count": 19,
   "id": "808870e7",
   "metadata": {},
   "outputs": [
    {
     "name": "stdout",
     "output_type": "stream",
     "text": [
      "[['dogs', 'puppies', ['canines']], ['cats', 'kittens']]\n"
     ]
    }
   ],
   "source": [
    "print(original)"
   ]
  },
  {
   "cell_type": "code",
   "execution_count": 20,
   "id": "5b9b14fe",
   "metadata": {},
   "outputs": [
    {
     "name": "stdout",
     "output_type": "stream",
     "text": [
      "---------- Now look at the copied version ----------\n",
      "[['dogs', 'puppies', ['canines']], ['cats', 'kittens']]\n"
     ]
    }
   ],
   "source": [
    "print(\"---------- Now look at the copied version ----------\")\n",
    "print(copied_version)"
   ]
  },
  {
   "cell_type": "markdown",
   "id": "21fa2699",
   "metadata": {},
   "source": [
    "The copy aliases the original. Changes made to one are made to the other."
   ]
  },
  {
   "cell_type": "markdown",
   "id": "64c6c42a",
   "metadata": {},
   "source": [
    "# Deep Copies"
   ]
  },
  {
   "cell_type": "code",
   "execution_count": 21,
   "id": "5fd5b54e",
   "metadata": {},
   "outputs": [],
   "source": [
    "original = [['dogs','puppies'],['cats','kittens']]"
   ]
  },
  {
   "cell_type": "code",
   "execution_count": 22,
   "id": "b65e3c5a",
   "metadata": {},
   "outputs": [],
   "source": [
    "copied_outer_list = []"
   ]
  },
  {
   "cell_type": "code",
   "execution_count": 23,
   "id": "f4f94bc6",
   "metadata": {},
   "outputs": [],
   "source": [
    "for inner_list in original:\n",
    "    copied_inner_list = []\n",
    "    for item in inner_list:\n",
    "        copied_inner_list.append(item)\n",
    "    copied_outer_list.append(copied_inner_list)"
   ]
  },
  {
   "cell_type": "markdown",
   "id": "11b2230c",
   "metadata": {},
   "source": [
    "Here is a simplified version of the above for loop."
   ]
  },
  {
   "cell_type": "code",
   "execution_count": 28,
   "id": "cd49df80",
   "metadata": {},
   "outputs": [],
   "source": [
    "#for inner_list in original:\n",
    "    #copied_inner_list = inner_list[:]\n",
    "    #copied_outer_list.append(copied_inner_list)"
   ]
  },
  {
   "cell_type": "code",
   "execution_count": 24,
   "id": "de6e680d",
   "metadata": {},
   "outputs": [
    {
     "name": "stdout",
     "output_type": "stream",
     "text": [
      "[['dogs', 'puppies'], ['cats', 'kittens']]\n"
     ]
    }
   ],
   "source": [
    "print(copied_outer_list)"
   ]
  },
  {
   "cell_type": "code",
   "execution_count": 25,
   "id": "1a6b2a47",
   "metadata": {},
   "outputs": [],
   "source": [
    "original[0].append(['canines'])"
   ]
  },
  {
   "cell_type": "code",
   "execution_count": 26,
   "id": "0bdf89e1",
   "metadata": {},
   "outputs": [
    {
     "name": "stdout",
     "output_type": "stream",
     "text": [
      "[['dogs', 'puppies', ['canines']], ['cats', 'kittens']]\n"
     ]
    }
   ],
   "source": [
    "print(original)"
   ]
  },
  {
   "cell_type": "code",
   "execution_count": 27,
   "id": "fb67cbd9",
   "metadata": {},
   "outputs": [
    {
     "name": "stdout",
     "output_type": "stream",
     "text": [
      "---------- Now look at the copied version ----------\n",
      "[['dogs', 'puppies'], ['cats', 'kittens']]\n"
     ]
    }
   ],
   "source": [
    "print(\"---------- Now look at the copied version ----------\")\n",
    "print(copied_outer_list)"
   ]
  },
  {
   "cell_type": "markdown",
   "id": "ae32ec1d",
   "metadata": {},
   "source": [
    "Re-contructing the list with nested iteration avoids aliasing problems"
   ]
  },
  {
   "cell_type": "markdown",
   "id": "18166a37",
   "metadata": {},
   "source": [
    "# copy module for deepcopy()"
   ]
  },
  {
   "cell_type": "markdown",
   "id": "eab376b6",
   "metadata": {},
   "source": [
    "Import the copy module and use deepcopy() to copy complicated data structures."
   ]
  },
  {
   "cell_type": "code",
   "execution_count": 29,
   "id": "c7c2a1c6",
   "metadata": {},
   "outputs": [],
   "source": [
    "import copy"
   ]
  },
  {
   "cell_type": "code",
   "execution_count": 30,
   "id": "b4f9e626",
   "metadata": {},
   "outputs": [],
   "source": [
    "original = [['canines', ['dogs', 'puppies']], ['felines', ['cats', 'kittens']]]"
   ]
  },
  {
   "cell_type": "code",
   "execution_count": 32,
   "id": "98108848",
   "metadata": {},
   "outputs": [],
   "source": [
    "shallow_copy_version = original[:]"
   ]
  },
  {
   "cell_type": "markdown",
   "id": "8eec9251",
   "metadata": {},
   "source": [
    "Example syntax for deepcopy()"
   ]
  },
  {
   "cell_type": "code",
   "execution_count": 33,
   "id": "d8ec2b57",
   "metadata": {},
   "outputs": [],
   "source": [
    "deeply_copied_version = copy.deepcopy(original)"
   ]
  },
  {
   "cell_type": "code",
   "execution_count": 34,
   "id": "f29d6efb",
   "metadata": {},
   "outputs": [],
   "source": [
    "original.append(\"Hi there\")"
   ]
  },
  {
   "cell_type": "code",
   "execution_count": 35,
   "id": "7ffcf4cc",
   "metadata": {},
   "outputs": [],
   "source": [
    "original[0].append([\"marsupials\"])"
   ]
  },
  {
   "cell_type": "code",
   "execution_count": 36,
   "id": "766122c7",
   "metadata": {},
   "outputs": [
    {
     "name": "stdout",
     "output_type": "stream",
     "text": [
      "-------- Original -----------\n",
      "[['canines', ['dogs', 'puppies'], ['marsupials']], ['felines', ['cats', 'kittens']], 'Hi there']\n"
     ]
    }
   ],
   "source": [
    "print(\"-------- Original -----------\")\n",
    "print(original)"
   ]
  },
  {
   "cell_type": "code",
   "execution_count": 37,
   "id": "2d78a40d",
   "metadata": {},
   "outputs": [
    {
     "name": "stdout",
     "output_type": "stream",
     "text": [
      "-------- deep copy -----------\n",
      "[['canines', ['dogs', 'puppies']], ['felines', ['cats', 'kittens']]]\n"
     ]
    }
   ],
   "source": [
    "print(\"-------- deep copy -----------\")\n",
    "print(deeply_copied_version)"
   ]
  },
  {
   "cell_type": "code",
   "execution_count": 38,
   "id": "ef0ff436",
   "metadata": {},
   "outputs": [
    {
     "name": "stdout",
     "output_type": "stream",
     "text": [
      "-------- shallow copy -----------\n",
      "[['canines', ['dogs', 'puppies'], ['marsupials']], ['felines', ['cats', 'kittens']]]\n"
     ]
    }
   ],
   "source": [
    "print(\"-------- shallow copy -----------\")\n",
    "print(shallow_copy_version)"
   ]
  },
  {
   "cell_type": "code",
   "execution_count": null,
   "id": "7d68ad32",
   "metadata": {},
   "outputs": [],
   "source": []
  }
 ],
 "metadata": {
  "kernelspec": {
   "display_name": "Python 3 (ipykernel)",
   "language": "python",
   "name": "python3"
  },
  "language_info": {
   "codemirror_mode": {
    "name": "ipython",
    "version": 3
   },
   "file_extension": ".py",
   "mimetype": "text/x-python",
   "name": "python",
   "nbconvert_exporter": "python",
   "pygments_lexer": "ipython3",
   "version": "3.10.7"
  }
 },
 "nbformat": 4,
 "nbformat_minor": 5
}
