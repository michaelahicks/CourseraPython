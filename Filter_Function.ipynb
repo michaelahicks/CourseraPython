{
 "cells": [
  {
   "cell_type": "markdown",
   "id": "8dadce49",
   "metadata": {},
   "source": [
    "# Filter Function"
   ]
  },
  {
   "cell_type": "code",
   "execution_count": 1,
   "id": "d1284fe5",
   "metadata": {},
   "outputs": [],
   "source": [
    "def keep_evens(nums):\n",
    "    new_list = []     #accumulator variable\n",
    "    for num in nums:\n",
    "        if num % 2 == 0:   # filter statement\n",
    "            new_list.append(num)\n",
    "    return new_list"
   ]
  },
  {
   "cell_type": "code",
   "execution_count": 2,
   "id": "5b50460e",
   "metadata": {},
   "outputs": [
    {
     "name": "stdout",
     "output_type": "stream",
     "text": [
      "[4, 6, 0]\n"
     ]
    }
   ],
   "source": [
    "print(keep_evens([3, 4, 6, 7, 0, 1]))"
   ]
  },
  {
   "cell_type": "code",
   "execution_count": 3,
   "id": "7eaf5e8c",
   "metadata": {},
   "outputs": [],
   "source": [
    "def keep_evens(nums):\n",
    "    new_seq = filter(lambda num: num % 2 == 0, nums) #filter function with lambda\n",
    "    return list(new_seq)"
   ]
  },
  {
   "cell_type": "code",
   "execution_count": 4,
   "id": "3aafef93",
   "metadata": {},
   "outputs": [
    {
     "name": "stdout",
     "output_type": "stream",
     "text": [
      "[4, 6, 0]\n"
     ]
    }
   ],
   "source": [
    "print(keep_evens([3, 4, 6, 7, 0, 1]))"
   ]
  },
  {
   "cell_type": "markdown",
   "id": "b342ece1",
   "metadata": {},
   "source": [
    "Practice"
   ]
  },
  {
   "cell_type": "code",
   "execution_count": 11,
   "id": "a910c221",
   "metadata": {},
   "outputs": [],
   "source": [
    "lst_check = ['plums', 'watermelon', 'kiwi', 'strawberries', 'blueberries', 'peaches', 'apples', 'mangos', 'papaya']"
   ]
  },
  {
   "cell_type": "code",
   "execution_count": 17,
   "id": "4a7f7633",
   "metadata": {},
   "outputs": [],
   "source": [
    "def keep_w(lst):\n",
    "    w_testing = filter(lambda word: \"w\" in word, lst) #filter with lambda\n",
    "    return list(w_testing)"
   ]
  },
  {
   "cell_type": "code",
   "execution_count": 18,
   "id": "88330475",
   "metadata": {},
   "outputs": [
    {
     "name": "stdout",
     "output_type": "stream",
     "text": [
      "['watermelon', 'kiwi', 'strawberries']\n"
     ]
    }
   ],
   "source": [
    "filter_testing = keep_w(lst_check)\n",
    "print(filter_testing)"
   ]
  },
  {
   "cell_type": "markdown",
   "id": "b6e90f90",
   "metadata": {},
   "source": [
    "More Practice"
   ]
  },
  {
   "cell_type": "code",
   "execution_count": 14,
   "id": "186255ee",
   "metadata": {},
   "outputs": [],
   "source": [
    "lst = [\"witch\", \"halloween\", \"pumpkin\", \"cat\", \"candy\", \"wagon\", \"moon\"]"
   ]
  },
  {
   "cell_type": "code",
   "execution_count": 15,
   "id": "840228a8",
   "metadata": {},
   "outputs": [],
   "source": [
    "def o_test(list_var):\n",
    "    o_pos = filter(lambda word: \"o\" in word, list_var)\n",
    "    return list(o_pos)"
   ]
  },
  {
   "cell_type": "code",
   "execution_count": 16,
   "id": "f074a000",
   "metadata": {},
   "outputs": [
    {
     "name": "stdout",
     "output_type": "stream",
     "text": [
      "['halloween', 'wagon', 'moon']\n"
     ]
    }
   ],
   "source": [
    "lst2 = o_test(lst)\n",
    "print(lst2)"
   ]
  },
  {
   "cell_type": "code",
   "execution_count": null,
   "id": "abe643a9",
   "metadata": {},
   "outputs": [],
   "source": []
  }
 ],
 "metadata": {
  "kernelspec": {
   "display_name": "Python 3 (ipykernel)",
   "language": "python",
   "name": "python3"
  },
  "language_info": {
   "codemirror_mode": {
    "name": "ipython",
    "version": 3
   },
   "file_extension": ".py",
   "mimetype": "text/x-python",
   "name": "python",
   "nbconvert_exporter": "python",
   "pygments_lexer": "ipython3",
   "version": "3.10.7"
  }
 },
 "nbformat": 4,
 "nbformat_minor": 5
}
