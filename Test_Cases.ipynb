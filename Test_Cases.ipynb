{
 "cells": [
  {
   "cell_type": "markdown",
   "id": "88e6c6f4",
   "metadata": {},
   "source": [
    "# Writing Test Cases"
   ]
  },
  {
   "cell_type": "markdown",
   "id": "888de44c",
   "metadata": {},
   "source": [
    "A <b>test</b> case expresses requirements for a program, in a way that can be checked automatically. Specifically, a test asserts something about the state of the program at a particular point in its execution."
   ]
  },
  {
   "cell_type": "markdown",
   "id": "d2e6a5ca",
   "metadata": {},
   "source": [
    "There are several reasons why it’s a good habit to write test cases."
   ]
  },
  {
   "cell_type": "markdown",
   "id": "ddb15593",
   "metadata": {},
   "source": [
    "<ul><li>Before we write code, we have in mind what it should do, but those thoughts may be a little vague. Writing down test cases forces us to be more concrete about what should happen.</li>\n",
    "<li>As we write the code, the test cases can provide automated feedback. You’ve actually been the beneficiary of such automated feedback via test cases throughout this book in some of the activecode windows and almost all of the exercises. We wrote the code for those test cases but kept it hidden, so as not to confuse you and also to avoid giving away the answers. You can get some of the same benefit from writing your own test cases.</li>\n",
    "<li>In larger software projects, the set of test cases can be run every time a change is made to the code base. <b>Unit tests</b> check that small bits of code are correctly implemented. <b>Functional tests</b> check that larger chunks of code work correctly. Running the tests can help to identify situations where a change in code in one place breaks the correct operation of some other code. We won’t see that advantage of test cases in this textbook, but keep in mind that this introduction to test cases is setting the stage for an essential software engineering practice if you are participating in a larger software development project.</li></ul>"
   ]
  },
  {
   "cell_type": "markdown",
   "id": "d727d0f6",
   "metadata": {},
   "source": [
    "Now it’s time to learn how to write code for test cases."
   ]
  },
  {
   "cell_type": "markdown",
   "id": "30a59657",
   "metadata": {},
   "source": [
    "Python provides a statement called <b><i>assert</b></i>."
   ]
  },
  {
   "cell_type": "markdown",
   "id": "0e700d52",
   "metadata": {},
   "source": [
    "<ul><li>Following the word assert there will be a python expression.</li>\n",
    "<li>If that expression evaluates to the Boolean <b>False</b>, then the interpreter will raise a runtime error.</li>\n",
    "<li>If the expression evaluates to <b>True</b>, then nothing happens and the execution goes on to the next line of code.</li></ul>"
   ]
  },
  {
   "cell_type": "markdown",
   "id": "a390fa23",
   "metadata": {},
   "source": [
    "<h3>Writing Test Cases for Functions</h3>"
   ]
  },
  {
   "cell_type": "markdown",
   "id": "2e5e6ab8",
   "metadata": {},
   "source": [
    "It is a good idea to write one or more test cases for each function that you define"
   ]
  },
  {
   "cell_type": "markdown",
   "id": "3bcfa063",
   "metadata": {},
   "source": [
    "A function defines an operation that can be performed. If the function takes one or more parameters, it is supposed to work properly on a variety of possible inputs. Each test case will check whether the function works properly on <b>one set of possible inputs.</b>"
   ]
  },
  {
   "cell_type": "markdown",
   "id": "fea82e28",
   "metadata": {},
   "source": [
    "A useful function will do some combination of three things, given its input parameters:"
   ]
  },
  {
   "cell_type": "markdown",
   "id": "b0650246",
   "metadata": {},
   "source": [
    "<ul><li>Return a value. For these, you will write <b>return value tests</b>.</li>\n",
    "<li>Modify the contents of some mutable object, like a list or dictionary. For these you will write <b>side effect tests</b>.</li>\n",
    "<li>Print something or write something to a file. Tests of whether a function generates the right printed output are beyond the scope of this testing framework; you won’t write these tests.</li>"
   ]
  },
  {
   "cell_type": "markdown",
   "id": "7391ab2a",
   "metadata": {},
   "source": [
    "Testing whether a function returns the correct value is the easiest test case to define. You simply check whether the result of invoking the function on a particular input produces the particular output that you expect. If <b>f</b> is your function, and you think that it should transform inputs <b>x</b> and <b>y</b> into output <b>z</b>, then you could write a test as <b>assert f(x, y) == z</b>. Or, to give a more concrete example, if you have a function <b>square</b>, you could have a test case <b>assert square(3) ==  9</b>. Call this a <b>return value test</b>."
   ]
  },
  {
   "cell_type": "markdown",
   "id": "edd9f621",
   "metadata": {},
   "source": [
    "The first test case that you define for a function should be an “easy” case, one that is prototypical of the kinds of inputs the function is supposed to handle. Additional test cases should handle “extreme” or unusual inputs, sometimes called <b>edge cases</b>. For example, if you are defining the “square” function, the first, easy case, might be an input like 3. Additional extreme or unusual inputs around which you create test cases might be a negative number, 0, and a floating point number."
   ]
  },
  {
   "cell_type": "markdown",
   "id": "abdb170c",
   "metadata": {},
   "source": [
    "One way to think about how to generate edge cases is to think in terms of <b>equivalence classes</b> of the different kinds of inputs the function might get. For example, the input to the <b>square</b> function could be either positive or negative. We then choose an input from each of these classes. <b>It is important to have at least one test for each equivalence class of inputs.</b>"
   ]
  },
  {
   "cell_type": "markdown",
   "id": "4606a24e",
   "metadata": {},
   "source": [
    "Semantic errors are often caused by improperly handling the boundaries between equivalence classes. The boundary for this problem is zero. <b>It is important to have a test at each boundary.</b>"
   ]
  },
  {
   "cell_type": "markdown",
   "id": "7de82e72",
   "metadata": {},
   "source": [
    "Another way to think about edge cases is to imagine things that could go wrong in the implementation. For example, in the square function we might mistakenly use addition instead of multiplication. Thus, we shouldn’t rely on a test that uses 2 as input, but we might be fooled into thinking it was working when it produced an output of 4, when it was really doubling rather than squaring."
   ]
  },
  {
   "cell_type": "markdown",
   "id": "70e0c196",
   "metadata": {},
   "source": [
    "<h3>Side Effect Tests</h3>"
   ]
  },
  {
   "cell_type": "markdown",
   "id": "c38a992b",
   "metadata": {},
   "source": [
    "To test whether a function makes correct changes to a mutable object, you will need more than one line of code. You will first set the mutable object to some value, then run the function, then check whether the object has the expected value. Call this a <b>side effect test</b> because you are checking to see whether the function invocation has had the correct side effect on the mutable object."
   ]
  },
  {
   "cell_type": "markdown",
   "id": "a814975c",
   "metadata": {},
   "source": [
    "Example:"
   ]
  },
  {
   "cell_type": "code",
   "execution_count": 2,
   "id": "fd1b1df7",
   "metadata": {},
   "outputs": [],
   "source": [
    "def update_counts(letters, counts_d):\n",
    "    for c in letters:\n",
    "        #counts_d[c] = 1  -- problem line\n",
    "        if c in counts_d:\n",
    "            counts_d[c] = counts_d[c] + 1\n",
    "        else:\n",
    "            counts_d[c] = 1\n",
    "\n",
    "\n",
    "counts = {'a': 3, 'b': 2}\n",
    "update_counts(\"aaab\", counts)\n",
    "# 3 more occurrences of a, so 6 in all\n",
    "assert counts['a'] == 6\n",
    "# 1 more occurrence of b, so 3 in all\n",
    "assert counts['b'] == 3"
   ]
  },
  {
   "cell_type": "markdown",
   "id": "3e1c6d28",
   "metadata": {},
   "source": [
    "# Program Development"
   ]
  },
  {
   "cell_type": "markdown",
   "id": "c05efe07",
   "metadata": {},
   "source": [
    "To deal with increasingly complex programs, we are going to suggest a technique called <b>incremental development</b>. The goal of incremental development is to avoid long debugging sessions by adding and testing only a small amount of code at a time."
   ]
  },
  {
   "cell_type": "markdown",
   "id": "1925adbc",
   "metadata": {},
   "source": [
    "<b>If you write unit tests before doing the incremental development, you will be able to track your progress as the code passes more and more of the tests. Alternatively, you can write additional tests at each stage of incremental development.</b>"
   ]
  },
  {
   "cell_type": "markdown",
   "id": "5addb3e6",
   "metadata": {},
   "source": [
    "Then you will be able to check whether any code change you make at a later stage of development causes one of the earlier tests, which used to pass, to not pass any more."
   ]
  },
  {
   "cell_type": "markdown",
   "id": "238458be",
   "metadata": {},
   "source": [
    "When you start out, you might add only a line or two of code at a time. As you gain more experience, you might find yourself writing and debugging bigger conceptual chunks. As you improve your programming skills you should find yourself managing bigger and bigger chunks: this is very similar to the way we learned to read letters, syllables, words, phrases, sentences, paragraphs, etc., or the way we learn to chunk music — from individual notes to chords, bars, phrases, and so on."
   ]
  },
  {
   "cell_type": "markdown",
   "id": "70d3b615",
   "metadata": {},
   "source": [
    "The key aspects of the process are:"
   ]
  },
  {
   "cell_type": "markdown",
   "id": "a0326a9e",
   "metadata": {},
   "source": [
    "<ol><li>Make sure you know what you are trying to accomplish. Then you can write appropriate unit tests.</li>\n",
    "<li>Start with a working skeleton program and make small incremental changes. At any point, if there is an error, you will know exactly where it is.</li>\n",
    "<li>Use temporary variables to hold intermediate values so that you can easily inspect and check them.</li>\n",
    "<li>Once the program is working, you might want to consolidate multiple statements into compound expressions, but only do this if it does not make the program more difficult to read.</li></ol>"
   ]
  },
  {
   "cell_type": "markdown",
   "id": "d97351a5",
   "metadata": {},
   "source": [
    "<h3>Testing Classes</h3>"
   ]
  },
  {
   "cell_type": "markdown",
   "id": "77cf6195",
   "metadata": {},
   "source": [
    "To test a user-defined class, you will create test cases that check whether instances are created properly, and you will create test cases for each of the methods as functions, by invoking them on particular instances and seeing whether they produce the correct return values and side effects, especially side effects that change data stored in the instance variables. To illustrate, we will use the Point class that was used in the introduction to classes"
   ]
  },
  {
   "cell_type": "markdown",
   "id": "006db891",
   "metadata": {},
   "source": [
    "To test whether the class constructor (the __init__) method is working correctly, create an instance and then make tests to see whether its instance variables are set correctly. Note that this is a side effect test: the constructor method’s job is to set instance variables, which is a side effect. Its return value doesn’t matter."
   ]
  },
  {
   "cell_type": "code",
   "execution_count": null,
   "id": "a09b14e7",
   "metadata": {},
   "outputs": [],
   "source": []
  }
 ],
 "metadata": {
  "kernelspec": {
   "display_name": "Python 3 (ipykernel)",
   "language": "python",
   "name": "python3"
  },
  "language_info": {
   "codemirror_mode": {
    "name": "ipython",
    "version": 3
   },
   "file_extension": ".py",
   "mimetype": "text/x-python",
   "name": "python",
   "nbconvert_exporter": "python",
   "pygments_lexer": "ipython3",
   "version": "3.10.7"
  }
 },
 "nbformat": 4,
 "nbformat_minor": 5
}
