{
 "cells": [
  {
   "cell_type": "code",
   "execution_count": 19,
   "id": "1549edef",
   "metadata": {},
   "outputs": [],
   "source": [
    "# import statements for necessary Python modules"
   ]
  },
  {
   "cell_type": "code",
   "execution_count": 20,
   "id": "ddcad01f",
   "metadata": {},
   "outputs": [],
   "source": [
    "import requests"
   ]
  },
  {
   "cell_type": "code",
   "execution_count": 21,
   "id": "d7f38fa1",
   "metadata": {},
   "outputs": [],
   "source": [
    "import json"
   ]
  },
  {
   "cell_type": "markdown",
   "id": "ba1c7e24",
   "metadata": {},
   "source": [
    "# This function uses the API to return a result"
   ]
  },
  {
   "cell_type": "code",
   "execution_count": 22,
   "id": "98f6fa4e",
   "metadata": {},
   "outputs": [],
   "source": [
    "def get_rhymes(word):\n",
    "    baseurl = \"https://api.datamuse.com/words\"\n",
    "    params_diction = {} # Set up an empty dictionary for query parameters\n",
    "    params_diction[\"rel_rhy\"] = word\n",
    "    params_diction[\"max\"] = \"3\" # get at most 3 results\n",
    "    resp = requests.get(baseurl, params=params_diction)\n",
    "    # return the top three words\n",
    "    print(type(resp)) #optional print\n",
    "    print(resp.url)   #optional print\n",
    "    word_ds = resp.json()\n",
    "    print(word_ds[:50])\n",
    "    return [d['word'] for d in word_ds]\n",
    "    #return resp.json() # Return a python object (a list of dictionaries in this case)"
   ]
  },
  {
   "cell_type": "code",
   "execution_count": 23,
   "id": "6c14e5b5",
   "metadata": {},
   "outputs": [
    {
     "name": "stdout",
     "output_type": "stream",
     "text": [
      "<class 'requests.models.Response'>\n",
      "https://api.datamuse.com/words?rel_rhy=funny&max=3\n",
      "[{'word': 'money', 'score': 4415, 'numSyllables': 2}, {'word': 'honey', 'score': 1206, 'numSyllables': 2}, {'word': 'sunny', 'score': 717, 'numSyllables': 2}]\n",
      "['money', 'honey', 'sunny']\n"
     ]
    }
   ],
   "source": [
    "print(get_rhymes(\"funny\"))"
   ]
  },
  {
   "cell_type": "markdown",
   "id": "caf9dfab",
   "metadata": {},
   "source": [
    "# Function to return url"
   ]
  },
  {
   "cell_type": "code",
   "execution_count": 24,
   "id": "dfe36f00",
   "metadata": {},
   "outputs": [],
   "source": [
    "def requestURL(baseurl, params = {}):\n",
    "    # This function accepts a URL path and a params diction as inputs.\n",
    "    # It calls requests.get() with those inputs,\n",
    "    # and returns the full URL of the data you want to get.\n",
    "    req = requests.Request(method = 'GET', url = baseurl, params = params)\n",
    "    prepped = req.prepare()\n",
    "    return prepped.url"
   ]
  },
  {
   "cell_type": "code",
   "execution_count": 25,
   "id": "50e2f38c",
   "metadata": {},
   "outputs": [],
   "source": [
    "params_diction = {} # Set up an empty dictionary for query parameters\n",
    "params_diction[\"rel_rhy\"] = \"funny\"\n",
    "params_diction[\"max\"] = \"3\" # get at most 3 results"
   ]
  },
  {
   "cell_type": "code",
   "execution_count": 26,
   "id": "35ffc839",
   "metadata": {},
   "outputs": [
    {
     "name": "stdout",
     "output_type": "stream",
     "text": [
      "https://api.datamuse.com/words?rel_rhy=funny&max=3\n"
     ]
    }
   ],
   "source": [
    "print(requestURL(\"https://api.datamuse.com/words\", params_diction))"
   ]
  },
  {
   "cell_type": "markdown",
   "id": "196b2be8",
   "metadata": {},
   "source": [
    "# More Practice"
   ]
  },
  {
   "cell_type": "code",
   "execution_count": 28,
   "id": "8a617de5",
   "metadata": {},
   "outputs": [],
   "source": [
    "page = requests.get(\"https://www.google.com/search?tbm=isch&q=%22violins+and+guitars%22\")"
   ]
  },
  {
   "cell_type": "code",
   "execution_count": 30,
   "id": "eed25397",
   "metadata": {},
   "outputs": [
    {
     "name": "stdout",
     "output_type": "stream",
     "text": [
      "<class 'requests.models.Response'>\n"
     ]
    }
   ],
   "source": [
    "print(type(page))"
   ]
  },
  {
   "cell_type": "code",
   "execution_count": 33,
   "id": "1715e714",
   "metadata": {},
   "outputs": [
    {
     "name": "stdout",
     "output_type": "stream",
     "text": [
      "<!DOCTYPE html PUBLIC \"-//WAPFORUM//DTD XHTML Mobile 1.0//EN\" \"http://www.wapforum.org/DTD/xhtml-mobile10.dtd\"><html xmlns=\"http://www.w3.org/1999/xhtml\" lang=\"en\"><head><meta content=\"application/xhtml+xml; charset=UTF-8\" http-equiv=\"Content-Type\"/><meta content=\"no-cache\" name=\"Cache-Control\"/><title>\"violins and guitars\" - Google Search</title><style>a{text-decoration:none;color:inherit}a:hover{text-decoration:underline}a img{border:0}body{font-family:arial,sans-serif;padding:8px;margin:0 aut\n"
     ]
    }
   ],
   "source": [
    "print(page.text[:500]) # print the first 150 characters"
   ]
  },
  {
   "cell_type": "code",
   "execution_count": 35,
   "id": "8f2d03a4",
   "metadata": {},
   "outputs": [],
   "source": [
    "params_goog_dict = {}\n",
    "params_goog_dict[\"tbm\"] = \"isch\"\n",
    "params_goog_dict[\"q\"] = \"violins and guitars\""
   ]
  },
  {
   "cell_type": "code",
   "execution_count": 36,
   "id": "2d898f60",
   "metadata": {},
   "outputs": [
    {
     "name": "stdout",
     "output_type": "stream",
     "text": [
      "https://www.google.com/search?tbm=isch&q=violins+and+guitars\n"
     ]
    }
   ],
   "source": [
    "print(requestURL(\"https://www.google.com/search\", params_goog_dict))"
   ]
  },
  {
   "cell_type": "code",
   "execution_count": null,
   "id": "a23fad72",
   "metadata": {},
   "outputs": [],
   "source": []
  }
 ],
 "metadata": {
  "kernelspec": {
   "display_name": "Python 3 (ipykernel)",
   "language": "python",
   "name": "python3"
  },
  "language_info": {
   "codemirror_mode": {
    "name": "ipython",
    "version": 3
   },
   "file_extension": ".py",
   "mimetype": "text/x-python",
   "name": "python",
   "nbconvert_exporter": "python",
   "pygments_lexer": "ipython3",
   "version": "3.9.12"
  }
 },
 "nbformat": 4,
 "nbformat_minor": 5
}
