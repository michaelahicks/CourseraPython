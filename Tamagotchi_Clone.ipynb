{
 "cells": [
  {
   "cell_type": "code",
   "execution_count": 14,
   "id": "0fb53fe3",
   "metadata": {},
   "outputs": [],
   "source": [
    "from random import randrange\n",
    "import sys"
   ]
  },
  {
   "cell_type": "code",
   "execution_count": null,
   "id": "1fbc7fc9",
   "metadata": {},
   "outputs": [],
   "source": [
    "#sys.setExecutionLimit(60000)"
   ]
  },
  {
   "cell_type": "code",
   "execution_count": 5,
   "id": "fb28d04c",
   "metadata": {},
   "outputs": [],
   "source": [
    "class Pet():\n",
    "    boredom_decrement = 4\n",
    "    hunger_decrement = 6\n",
    "    boredom_threshold = 5\n",
    "    hunger_threshold = 10\n",
    "    sounds = ['Mrrp']\n",
    "    \n",
    "    def __init__(self, name = \"Kitty\"):\n",
    "        self.name = name\n",
    "        self.hunger = randrange(self.hunger_threshold)\n",
    "        self.boredom = randrange(self.boredom_threshold)\n",
    "        self.sounds = self.sounds[:]  # copy the class attribute, so that when we make changes to it, we won't affect the other Pets in the class\n",
    "        \n",
    "    def clock_tick(self):\n",
    "        self.boredom += 1\n",
    "        self.hunger += 1\n",
    "        \n",
    "    def mood(self):\n",
    "        if self.hunger <= self.hunger_threshold and self.boredom <= self.boredom_threshold:\n",
    "            return \"happy\"\n",
    "        elif self.hunger > self.hunger_threshold:\n",
    "            return \"hungry\"\n",
    "        else:\n",
    "            return \"bored\"\n",
    "        \n",
    "    def __str__(self):\n",
    "        state = \"     I'm \" + self.name + \". \"\n",
    "        state += \" I feel \" + self.mood() + \". \"\n",
    "        # state += \"Hunger {} Boredom {} Words {}\".format(self.hunger, self.boredom, self.sounds)\n",
    "        return state\n",
    "    \n",
    "    def hi(self):\n",
    "        print(self.sounds[randrange(len(self.sounds))])\n",
    "        self.reduce_boredom()\n",
    "        \n",
    "    def teach(self, word):\n",
    "        self.sounds.append(word)\n",
    "        self.reduce_boredom()\n",
    "        \n",
    "    def feed(self):\n",
    "        self.reduce_hunger()\n",
    "        \n",
    "    def reduce_hunger(self):\n",
    "        self.hunger = max(0, self.hunger - self.hunger_decrement)\n",
    "    \n",
    "    def reduce_boredom(self):\n",
    "        self.boredom = max(0, self.boredom - self.boredom_decrement)"
   ]
  },
  {
   "cell_type": "code",
   "execution_count": 6,
   "id": "41f1d72f",
   "metadata": {},
   "outputs": [],
   "source": [
    "p1 = Pet(\"Fido\")"
   ]
  },
  {
   "cell_type": "code",
   "execution_count": 7,
   "id": "6ce9ac35",
   "metadata": {},
   "outputs": [
    {
     "name": "stdout",
     "output_type": "stream",
     "text": [
      "     I'm Fido.  I feel happy. \n"
     ]
    }
   ],
   "source": [
    "print(p1)"
   ]
  },
  {
   "cell_type": "code",
   "execution_count": 8,
   "id": "fd8f3c73",
   "metadata": {},
   "outputs": [
    {
     "name": "stdout",
     "output_type": "stream",
     "text": [
      "     I'm Fido.  I feel happy. \n",
      "     I'm Fido.  I feel happy. \n",
      "     I'm Fido.  I feel happy. \n",
      "     I'm Fido.  I feel hungry. \n",
      "     I'm Fido.  I feel hungry. \n",
      "     I'm Fido.  I feel hungry. \n",
      "     I'm Fido.  I feel hungry. \n",
      "     I'm Fido.  I feel hungry. \n",
      "     I'm Fido.  I feel hungry. \n",
      "     I'm Fido.  I feel hungry. \n"
     ]
    }
   ],
   "source": [
    "for i in range(10):\n",
    "    p1.clock_tick()\n",
    "    print(p1)"
   ]
  },
  {
   "cell_type": "code",
   "execution_count": 9,
   "id": "3df86fb7",
   "metadata": {},
   "outputs": [],
   "source": [
    "p1.feed()"
   ]
  },
  {
   "cell_type": "code",
   "execution_count": 10,
   "id": "7c3f053d",
   "metadata": {},
   "outputs": [
    {
     "name": "stdout",
     "output_type": "stream",
     "text": [
      "Mrrp\n"
     ]
    }
   ],
   "source": [
    "p1.hi()"
   ]
  },
  {
   "cell_type": "code",
   "execution_count": 11,
   "id": "4af6cea5",
   "metadata": {},
   "outputs": [],
   "source": [
    "p1.teach(\"Boo\")"
   ]
  },
  {
   "cell_type": "code",
   "execution_count": 12,
   "id": "87868930",
   "metadata": {},
   "outputs": [
    {
     "name": "stdout",
     "output_type": "stream",
     "text": [
      "Mrrp\n",
      "Mrrp\n",
      "Boo\n",
      "Boo\n",
      "Boo\n",
      "Mrrp\n",
      "Boo\n",
      "Mrrp\n",
      "Boo\n",
      "Boo\n"
     ]
    }
   ],
   "source": [
    "for i in range(10):\n",
    "    p1.hi()"
   ]
  },
  {
   "cell_type": "code",
   "execution_count": 13,
   "id": "af4288e2",
   "metadata": {},
   "outputs": [
    {
     "name": "stdout",
     "output_type": "stream",
     "text": [
      "     I'm Fido.  I feel hungry. \n"
     ]
    }
   ],
   "source": [
    "print(p1)"
   ]
  },
  {
   "cell_type": "code",
   "execution_count": 15,
   "id": "e398f413",
   "metadata": {},
   "outputs": [],
   "source": [
    "def whichone(petlist, name):\n",
    "    for pet in petlist:\n",
    "        if pet.name == name:\n",
    "            return pet\n",
    "    return None # no pet matched"
   ]
  },
  {
   "cell_type": "code",
   "execution_count": 18,
   "id": "a6f68f0b",
   "metadata": {},
   "outputs": [
    {
     "name": "stdout",
     "output_type": "stream",
     "text": [
      "\n",
      "\n",
      "        Quit\n",
      "        Adopt <petname_with_no_spaces_please>\n",
      "        Greet <petname>\n",
      "        Teach <petname> <word>\n",
      "        Feed <petname>\n",
      "        \n",
      "        Choice: Adopt Gringer\n",
      "\n",
      "     I'm Gringer.  I feel happy. \n",
      "\n",
      "        Quit\n",
      "        Adopt <petname_with_no_spaces_please>\n",
      "        Greet <petname>\n",
      "        Teach <petname> <word>\n",
      "        Feed <petname>\n",
      "        \n",
      "        Choice: Teach Gringer Derp\n",
      "\n",
      "     I'm Gringer.  I feel happy. \n",
      "\n",
      "        Quit\n",
      "        Adopt <petname_with_no_spaces_please>\n",
      "        Greet <petname>\n",
      "        Teach <petname> <word>\n",
      "        Feed <petname>\n",
      "        \n",
      "        Choice: Greet Gringer\n",
      "Mrrp\n",
      "\n",
      "     I'm Gringer.  I feel happy. \n",
      "\n",
      "        Quit\n",
      "        Adopt <petname_with_no_spaces_please>\n",
      "        Greet <petname>\n",
      "        Teach <petname> <word>\n",
      "        Feed <petname>\n",
      "        \n",
      "        Choice: Teach Gringer Ballz\n",
      "\n",
      "     I'm Gringer.  I feel happy. \n",
      "\n",
      "        Quit\n",
      "        Adopt <petname_with_no_spaces_please>\n",
      "        Greet <petname>\n",
      "        Teach <petname> <word>\n",
      "        Feed <petname>\n",
      "        \n",
      "        Choice: Greet Gringer\n",
      "Derp\n",
      "\n",
      "     I'm Gringer.  I feel happy. \n",
      "\n",
      "        Quit\n",
      "        Adopt <petname_with_no_spaces_please>\n",
      "        Greet <petname>\n",
      "        Teach <petname> <word>\n",
      "        Feed <petname>\n",
      "        \n",
      "        Choice: Adopt Fig\n",
      "\n",
      "     I'm Gringer.  I feel happy. \n",
      "     I'm Fig.  I feel happy. \n",
      "\n",
      "        Quit\n",
      "        Adopt <petname_with_no_spaces_please>\n",
      "        Greet <petname>\n",
      "        Teach <petname> <word>\n",
      "        Feed <petname>\n",
      "        \n",
      "        Choice: Teach Fig Derp\n",
      "\n",
      "     I'm Gringer.  I feel hungry. \n",
      "     I'm Fig.  I feel happy. \n",
      "\n",
      "        Quit\n",
      "        Adopt <petname_with_no_spaces_please>\n",
      "        Greet <petname>\n",
      "        Teach <petname> <word>\n",
      "        Feed <petname>\n",
      "        \n",
      "        Choice: Feed Gringer\n",
      "\n",
      "     I'm Gringer.  I feel happy. \n",
      "     I'm Fig.  I feel happy. \n",
      "\n",
      "        Quit\n",
      "        Adopt <petname_with_no_spaces_please>\n",
      "        Greet <petname>\n",
      "        Teach <petname> <word>\n",
      "        Feed <petname>\n",
      "        \n",
      "        Choice: Quit\n",
      "Exiting...\n"
     ]
    }
   ],
   "source": [
    "def play():\n",
    "    animals = []\n",
    "    \n",
    "    option = \"\"\n",
    "    base_prompt = \"\"\"\n",
    "        Quit\n",
    "        Adopt <petname_with_no_spaces_please>\n",
    "        Greet <petname>\n",
    "        Teach <petname> <word>\n",
    "        Feed <petname>\n",
    "        \n",
    "        Choice: \"\"\"\n",
    "    feedback = \"\"\n",
    "    while True:\n",
    "        action = input(feedback + \"\\n\" + base_prompt)\n",
    "        feedback = \"\"\n",
    "        words = action.split()\n",
    "        if len(words) > 0:\n",
    "            command = words[0]\n",
    "        else:\n",
    "            command = None\n",
    "        if command == \"Quit\":\n",
    "            print(\"Exiting...\")\n",
    "            return\n",
    "        elif command == \"Adopt\" and len(words) > 1:\n",
    "            if whichone(animals, words[1]):\n",
    "                feedback += \"You already have a pet with that name\\n\"\n",
    "            else:\n",
    "                animals.append(Pet(words[1]))\n",
    "        elif command == \"Greet\" and len(words) > 1:\n",
    "            pet = whichone(animals, words[1])\n",
    "            if not pet:\n",
    "                feedback += \"I didn't recognize that pet name. Please try again.\"\n",
    "            else:\n",
    "                pet.hi()\n",
    "        elif command == \"Teach\" and len(words) > 2:\n",
    "            pet = whichone(animals, words[1])\n",
    "            if not pet:\n",
    "                feedback += \"I don't recognize that pet name. Please try again.\"\n",
    "            else:\n",
    "                pet.teach(words[2])\n",
    "        elif command == \"Feed\" and len(words) > 1:\n",
    "            pet = whichone(animals, words[1])\n",
    "            if not pet:\n",
    "                feedback += \"I don't recognize that pet name. Please try again.\"\n",
    "            else:\n",
    "                pet.feed()\n",
    "        else:\n",
    "            feedback += \"I didn't understand that. Please try again.\"\n",
    "        \n",
    "        for pet in animals:\n",
    "            pet.clock_tick()\n",
    "            feedback += \"\\n\" + pet.__str__()\n",
    "            \n",
    "play()\n",
    "\n",
    "                "
   ]
  },
  {
   "cell_type": "code",
   "execution_count": null,
   "id": "a5a0b8d3",
   "metadata": {},
   "outputs": [],
   "source": []
  }
 ],
 "metadata": {
  "kernelspec": {
   "display_name": "Python 3 (ipykernel)",
   "language": "python",
   "name": "python3"
  },
  "language_info": {
   "codemirror_mode": {
    "name": "ipython",
    "version": 3
   },
   "file_extension": ".py",
   "mimetype": "text/x-python",
   "name": "python",
   "nbconvert_exporter": "python",
   "pygments_lexer": "ipython3",
   "version": "3.10.7"
  }
 },
 "nbformat": 4,
 "nbformat_minor": 5
}
