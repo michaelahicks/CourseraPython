{
 "cells": [
  {
   "cell_type": "markdown",
   "id": "eddec649",
   "metadata": {},
   "source": [
    "# List Comprehensions"
   ]
  },
  {
   "cell_type": "code",
   "execution_count": 12,
   "id": "83716286",
   "metadata": {},
   "outputs": [],
   "source": [
    "#comprehension = [<transformer_expression> for <loop_var> in <sequence> if <filtration_expression>]"
   ]
  },
  {
   "cell_type": "code",
   "execution_count": 1,
   "id": "a92e0411",
   "metadata": {},
   "outputs": [],
   "source": [
    "def longlengths(strings):\n",
    "    return [len(s) for s in strings if len(s) >= 4]"
   ]
  },
  {
   "cell_type": "code",
   "execution_count": 3,
   "id": "a1ebba36",
   "metadata": {},
   "outputs": [
    {
     "name": "stdout",
     "output_type": "stream",
     "text": [
      "[4, 6]\n"
     ]
    }
   ],
   "source": [
    "print(longlengths(['a', 'bc', 'def', 'ghij', 'klmnop']))"
   ]
  },
  {
   "cell_type": "markdown",
   "id": "e781f3aa",
   "metadata": {},
   "source": [
    "Same filter done with an accumulation pattern"
   ]
  },
  {
   "cell_type": "code",
   "execution_count": 10,
   "id": "a3549988",
   "metadata": {},
   "outputs": [],
   "source": [
    "def longlengths(strings):\n",
    "    accum = []\n",
    "    for s in strings:\n",
    "        if len(s) >= 4:  # filter expression\n",
    "            accum.append(len(s))  #transformer expression\n",
    "    return accum"
   ]
  },
  {
   "cell_type": "code",
   "execution_count": 7,
   "id": "3a109d4c",
   "metadata": {},
   "outputs": [
    {
     "name": "stdout",
     "output_type": "stream",
     "text": [
      "[4, 6]\n"
     ]
    }
   ],
   "source": [
    "print(longlengths(['a', 'bc', 'def', 'ghij', 'klmnop']))"
   ]
  },
  {
   "cell_type": "markdown",
   "id": "f597742f",
   "metadata": {},
   "source": [
    "Same filter done with filter and map functions"
   ]
  },
  {
   "cell_type": "code",
   "execution_count": 24,
   "id": "e02371b4",
   "metadata": {},
   "outputs": [],
   "source": [
    "def longlenths(strings):\n",
    "    filtered_strings = filter(lambda s: len(s) >= 4, strings)\n",
    "    return list(map(lambda s: len(s), filtered_strings))  #can also be written: map(len, filtered_strings)"
   ]
  },
  {
   "cell_type": "code",
   "execution_count": 25,
   "id": "15c5743e",
   "metadata": {},
   "outputs": [
    {
     "name": "stdout",
     "output_type": "stream",
     "text": [
      "[4, 6]\n"
     ]
    }
   ],
   "source": [
    "print(longlengths(['a', 'bc', 'def', 'ghij', 'klmnop']))"
   ]
  },
  {
   "cell_type": "markdown",
   "id": "b9aa21ab",
   "metadata": {},
   "source": [
    "# More Examples "
   ]
  },
  {
   "cell_type": "code",
   "execution_count": 13,
   "id": "1d3d6c57",
   "metadata": {},
   "outputs": [],
   "source": [
    "L = [12, 34, 21, 4, 6, 9, 42]"
   ]
  },
  {
   "cell_type": "code",
   "execution_count": 14,
   "id": "e407953f",
   "metadata": {},
   "outputs": [],
   "source": [
    "lst = []"
   ]
  },
  {
   "cell_type": "code",
   "execution_count": 15,
   "id": "7e8cd7e2",
   "metadata": {},
   "outputs": [],
   "source": [
    "for x in L:\n",
    "    if x > 10:\n",
    "        lst.append(x)"
   ]
  },
  {
   "cell_type": "code",
   "execution_count": 16,
   "id": "6aaa1914",
   "metadata": {},
   "outputs": [
    {
     "name": "stdout",
     "output_type": "stream",
     "text": [
      "[12, 34, 21, 42]\n"
     ]
    }
   ],
   "source": [
    "print(lst)"
   ]
  },
  {
   "cell_type": "code",
   "execution_count": 19,
   "id": "7b53f300",
   "metadata": {},
   "outputs": [],
   "source": [
    "lst2 = [x for x in L if x > 10]  #prior for loop as a list comprehension"
   ]
  },
  {
   "cell_type": "code",
   "execution_count": 18,
   "id": "3f434af6",
   "metadata": {},
   "outputs": [
    {
     "name": "stdout",
     "output_type": "stream",
     "text": [
      "[12, 34, 21, 42]\n"
     ]
    }
   ],
   "source": [
    "print(lst2)"
   ]
  },
  {
   "cell_type": "markdown",
   "id": "08db42e7",
   "metadata": {},
   "source": [
    "Filter and Map converted to list comprehension"
   ]
  },
  {
   "cell_type": "code",
   "execution_count": 20,
   "id": "dfabb22e",
   "metadata": {},
   "outputs": [],
   "source": [
    "things = [3, 4, 6, 7, 0, 1]"
   ]
  },
  {
   "cell_type": "markdown",
   "id": "36f2db5a",
   "metadata": {},
   "source": [
    "use list() for map function to avoid map object error"
   ]
  },
  {
   "cell_type": "code",
   "execution_count": 26,
   "id": "08616706",
   "metadata": {},
   "outputs": [
    {
     "name": "stdout",
     "output_type": "stream",
     "text": [
      "[8, 12, 0]\n"
     ]
    }
   ],
   "source": [
    "print(list(map(lambda x: x*2, filter(lambda y: y % 2 == 0, things)))) "
   ]
  },
  {
   "cell_type": "code",
   "execution_count": 22,
   "id": "efed3984",
   "metadata": {},
   "outputs": [
    {
     "name": "stdout",
     "output_type": "stream",
     "text": [
      "[8, 12, 0]\n"
     ]
    }
   ],
   "source": [
    "print([x*2 for x in things if x % 2 == 0])"
   ]
  },
  {
   "cell_type": "markdown",
   "id": "bbcfcc0c",
   "metadata": {},
   "source": [
    "Write code to assign to the variable compri all the values of the key name in any of the sub-dictionaries in the dictionary tester. Do this using a list comprehension. #I have no answer yet."
   ]
  },
  {
   "cell_type": "code",
   "execution_count": 27,
   "id": "d7e5287b",
   "metadata": {},
   "outputs": [],
   "source": [
    "tester = {'info': [{\"name\": \"Lauren\", 'class standing': 'Junior', 'major': \"Information Science\"},{'name': 'Ayo', 'class standing': \"Bachelor's\", 'major': 'Information Science'}, {'name': 'Kathryn', 'class standing': 'Senior', 'major': 'Sociology'}, {'name': 'Nick', 'class standing': 'Junior', 'major': 'Computer Science'}, {'name': 'Gladys', 'class standing': 'Sophomore', 'major': 'History'}, {'name': 'Adam', 'major': 'Violin Performance', 'class standing': 'Senior'}]}"
   ]
  },
  {
   "cell_type": "code",
   "execution_count": 28,
   "id": "ee8a19c5",
   "metadata": {},
   "outputs": [],
   "source": [
    "compri = []"
   ]
  },
  {
   "cell_type": "code",
   "execution_count": 29,
   "id": "66cf396e",
   "metadata": {},
   "outputs": [
    {
     "name": "stdout",
     "output_type": "stream",
     "text": [
      "info\n"
     ]
    }
   ],
   "source": [
    "for label in tester:\n",
    "    print(label)\n",
    "    for lst in tester[label]:\n",
    "        compri.append(lst['name'])"
   ]
  },
  {
   "cell_type": "code",
   "execution_count": 30,
   "id": "1f2bcb7d",
   "metadata": {},
   "outputs": [
    {
     "name": "stdout",
     "output_type": "stream",
     "text": [
      "['Lauren', 'Ayo', 'Kathryn', 'Nick', 'Gladys', 'Adam']\n"
     ]
    }
   ],
   "source": [
    "print(compri)"
   ]
  },
  {
   "cell_type": "code",
   "execution_count": null,
   "id": "87097412",
   "metadata": {},
   "outputs": [],
   "source": []
  }
 ],
 "metadata": {
  "kernelspec": {
   "display_name": "Python 3 (ipykernel)",
   "language": "python",
   "name": "python3"
  },
  "language_info": {
   "codemirror_mode": {
    "name": "ipython",
    "version": 3
   },
   "file_extension": ".py",
   "mimetype": "text/x-python",
   "name": "python",
   "nbconvert_exporter": "python",
   "pygments_lexer": "ipython3",
   "version": "3.9.12"
  }
 },
 "nbformat": 4,
 "nbformat_minor": 5
}
